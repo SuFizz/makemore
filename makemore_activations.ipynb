{
 "cells": [
  {
   "cell_type": "markdown",
   "id": "0cbdff17",
   "metadata": {},
   "source": [
    "# Make the output network have similar output probability to uniform or whats expected\n",
    "# Make the input layer such that the squashing effect goes away - look at Kai ming paper\n",
    "\n",
    "# Kai ming paper\n",
    "# residual connections\n",
    "# Optimiser (RMSProp/ Adam)"
   ]
  },
  {
   "cell_type": "code",
   "execution_count": null,
   "id": "022a59df",
   "metadata": {},
   "outputs": [],
   "source": []
  }
 ],
 "metadata": {
  "language_info": {
   "name": "python"
  }
 },
 "nbformat": 4,
 "nbformat_minor": 5
}
