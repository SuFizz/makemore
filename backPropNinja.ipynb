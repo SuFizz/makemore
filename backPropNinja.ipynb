{
 "cells": [
  {
   "cell_type": "markdown",
   "metadata": {},
   "source": [
    "## makemore: becoming a backprop ninja\n",
    "\n",
    "swole doge style"
   ]
  },
  {
   "cell_type": "code",
   "execution_count": 4,
   "metadata": {},
   "outputs": [],
   "source": [
    "# there no change change in the first several cells from last lecture"
   ]
  },
  {
   "cell_type": "code",
   "execution_count": 5,
   "metadata": {},
   "outputs": [],
   "source": [
    "import torch\n",
    "import torch.nn.functional as F\n",
    "import matplotlib.pyplot as plt # for making figures\n",
    "%matplotlib inline"
   ]
  },
  {
   "cell_type": "code",
   "execution_count": 6,
   "metadata": {},
   "outputs": [
    {
     "name": "stdout",
     "output_type": "stream",
     "text": [
      "32033\n",
      "15\n",
      "['emma', 'olivia', 'ava', 'isabella', 'sophia', 'charlotte', 'mia', 'amelia']\n"
     ]
    }
   ],
   "source": [
    "# read in all the words\n",
    "words = open('names.txt', 'r').read().splitlines()\n",
    "print(len(words))\n",
    "print(max(len(w) for w in words))\n",
    "print(words[:8])"
   ]
  },
  {
   "cell_type": "code",
   "execution_count": 7,
   "metadata": {},
   "outputs": [
    {
     "name": "stdout",
     "output_type": "stream",
     "text": [
      "{1: 'a', 2: 'b', 3: 'c', 4: 'd', 5: 'e', 6: 'f', 7: 'g', 8: 'h', 9: 'i', 10: 'j', 11: 'k', 12: 'l', 13: 'm', 14: 'n', 15: 'o', 16: 'p', 17: 'q', 18: 'r', 19: 's', 20: 't', 21: 'u', 22: 'v', 23: 'w', 24: 'x', 25: 'y', 26: 'z', 0: '.'}\n",
      "27\n"
     ]
    }
   ],
   "source": [
    "# build the vocabulary of characters and mappings to/from integers\n",
    "chars = sorted(list(set(''.join(words))))\n",
    "stoi = {s:i+1 for i,s in enumerate(chars)}\n",
    "stoi['.'] = 0\n",
    "itos = {i:s for s,i in stoi.items()}\n",
    "vocab_size = len(itos)\n",
    "print(itos)\n",
    "print(vocab_size)"
   ]
  },
  {
   "cell_type": "code",
   "execution_count": 8,
   "metadata": {},
   "outputs": [
    {
     "name": "stdout",
     "output_type": "stream",
     "text": [
      "torch.Size([182625, 3]) torch.Size([182625])\n",
      "torch.Size([22655, 3]) torch.Size([22655])\n",
      "torch.Size([22866, 3]) torch.Size([22866])\n"
     ]
    }
   ],
   "source": [
    "# build the dataset\n",
    "block_size = 3 # context length: how many characters do we take to predict the next one?\n",
    "\n",
    "def build_dataset(words):  \n",
    "  X, Y = [], []\n",
    "  \n",
    "  for w in words:\n",
    "    context = [0] * block_size\n",
    "    for ch in w + '.':\n",
    "      ix = stoi[ch]\n",
    "      X.append(context)\n",
    "      Y.append(ix)\n",
    "      context = context[1:] + [ix] # crop and append\n",
    "\n",
    "  X = torch.tensor(X)\n",
    "  Y = torch.tensor(Y)\n",
    "  print(X.shape, Y.shape)\n",
    "  return X, Y\n",
    "\n",
    "import random\n",
    "random.seed(42)\n",
    "random.shuffle(words)\n",
    "n1 = int(0.8*len(words))\n",
    "n2 = int(0.9*len(words))\n",
    "\n",
    "Xtr,  Ytr  = build_dataset(words[:n1])     # 80%\n",
    "Xdev, Ydev = build_dataset(words[n1:n2])   # 10%\n",
    "Xte,  Yte  = build_dataset(words[n2:])     # 10%"
   ]
  },
  {
   "cell_type": "code",
   "execution_count": 9,
   "metadata": {},
   "outputs": [],
   "source": [
    "# ok biolerplate done, now we get to the action:"
   ]
  },
  {
   "cell_type": "code",
   "execution_count": 10,
   "metadata": {},
   "outputs": [],
   "source": [
    "# utility function we will use later when comparing manual gradients to PyTorch gradients\n",
    "def cmp(s, dt, t):\n",
    "  ex = torch.all(dt == t.grad).item()\n",
    "  app = torch.allclose(dt, t.grad)\n",
    "  maxdiff = (dt - t.grad).abs().max().item()\n",
    "  print(f'{s:15s} | exact: {str(ex):5s} | approximate: {str(app):5s} | maxdiff: {maxdiff}')"
   ]
  },
  {
   "cell_type": "code",
   "execution_count": 11,
   "metadata": {},
   "outputs": [
    {
     "name": "stdout",
     "output_type": "stream",
     "text": [
      "4137\n"
     ]
    }
   ],
   "source": [
    "n_embd = 10 # the dimensionality of the character embedding vectors\n",
    "n_hidden = 64 # the number of neurons in the hidden layer of the MLP\n",
    "\n",
    "g = torch.Generator().manual_seed(2147483647) # for reproducibility\n",
    "C  = torch.randn((vocab_size, n_embd),            generator=g)\n",
    "# Layer 1\n",
    "W1 = torch.randn((n_embd * block_size, n_hidden), generator=g) * (5/3)/((n_embd * block_size)**0.5)\n",
    "b1 = torch.randn(n_hidden,                        generator=g) * 0.1 # using b1 just for fun, it's useless because of BN\n",
    "# Layer 2\n",
    "W2 = torch.randn((n_hidden, vocab_size),          generator=g) * 0.1\n",
    "b2 = torch.randn(vocab_size,                      generator=g) * 0.1\n",
    "# BatchNorm parameters\n",
    "bngain = torch.randn((1, n_hidden))*0.1 + 1.0\n",
    "bnbias = torch.randn((1, n_hidden))*0.1\n",
    "\n",
    "# Note: I am initializating many of these parameters in non-standard ways\n",
    "# because sometimes initializating with e.g. all zeros could mask an incorrect\n",
    "# implementation of the backward pass.\n",
    "\n",
    "parameters = [C, W1, b1, W2, b2, bngain, bnbias]\n",
    "print(sum(p.nelement() for p in parameters)) # number of parameters in total\n",
    "for p in parameters:\n",
    "  p.requires_grad = True"
   ]
  },
  {
   "cell_type": "code",
   "execution_count": 12,
   "metadata": {},
   "outputs": [],
   "source": [
    "batch_size = 32\n",
    "n = batch_size # a shorter variable also, for convenience\n",
    "# construct a minibatch\n",
    "ix = torch.randint(0, Xtr.shape[0], (batch_size,), generator=g)\n",
    "Xb, Yb = Xtr[ix], Ytr[ix] # batch X,Y"
   ]
  },
  {
   "cell_type": "code",
   "execution_count": 13,
   "metadata": {},
   "outputs": [
    {
     "data": {
      "text/plain": [
       "tensor(3.3574, grad_fn=<NegBackward0>)"
      ]
     },
     "execution_count": 13,
     "metadata": {},
     "output_type": "execute_result"
    }
   ],
   "source": [
    "# forward pass, \"chunkated\" into smaller steps that are possible to backward one at a time\n",
    "\n",
    "emb = C[Xb] # embed the characters into vectors\n",
    "embcat = emb.view(emb.shape[0], -1) # concatenate the vectors\n",
    "# Linear layer 1\n",
    "hprebn = embcat @ W1 + b1 # hidden layer pre-activation\n",
    "# BatchNorm layer\n",
    "bnmeani = 1/n*hprebn.sum(0, keepdim=True)\n",
    "bndiff = hprebn - bnmeani\n",
    "bndiff2 = bndiff**2\n",
    "bnvar = 1/(n-1)*(bndiff2).sum(0, keepdim=True) # note: Bessel's correction (dividing by n-1, not n)\n",
    "bnvar_inv = (bnvar + 1e-5)**-0.5\n",
    "bnraw = bndiff * bnvar_inv\n",
    "hpreact = bngain * bnraw + bnbias\n",
    " \n",
    "# Non-linearity\n",
    "h = torch.tanh(hpreact) # hidden layer\n",
    "# Linear layer 2\n",
    "logits = h @ W2 + b2 # output layer\n",
    "# cross entropy loss (same as F.cross_entropy(logits, Yb))\n",
    "logit_maxes = logits.max(1, keepdim=True).values\n",
    "norm_logits = logits - logit_maxes # subtract max for numerical stability\n",
    "counts = norm_logits.exp()\n",
    "counts_sum = counts.sum(1, keepdims=True)\n",
    "counts_sum_inv = counts_sum**-1 # if I use (1.0 / counts_sum) instead then I can't get backprop to be bit exact...\n",
    "probs = counts * counts_sum_inv\n",
    "logprobs = probs.log()\n",
    "loss = -logprobs[range(n), Yb].mean()\n",
    "\n",
    "# PyTorch backward pass\n",
    "for p in parameters:\n",
    "  p.grad = None\n",
    "for t in [logprobs, probs, counts, counts_sum, counts_sum_inv, # afaik there is no cleaner way\n",
    "          norm_logits, logit_maxes, logits, h, hpreact, bnraw,\n",
    "         bnvar_inv, bnvar, bndiff2, bndiff, hprebn, bnmeani,\n",
    "         embcat, emb]:\n",
    "  t.retain_grad()\n",
    "loss.backward()\n",
    "loss"
   ]
  },
  {
   "cell_type": "code",
   "execution_count": 14,
   "metadata": {},
   "outputs": [
    {
     "name": "stdout",
     "output_type": "stream",
     "text": [
      "logprobs        | exact: True  | approximate: True  | maxdiff: 0.0\n"
     ]
    }
   ],
   "source": [
    "dlogprobs = torch.zeros_like(logprobs)\n",
    "dlogprobs [range(n), Yb] = -1.0/n\n",
    "cmp('logprobs', dlogprobs, logprobs)"
   ]
  },
  {
   "cell_type": "code",
   "execution_count": 15,
   "metadata": {},
   "outputs": [
    {
     "name": "stdout",
     "output_type": "stream",
     "text": [
      "probs           | exact: True  | approximate: True  | maxdiff: 0.0\n"
     ]
    }
   ],
   "source": [
    "dprobs = (1/probs) * dlogprobs\n",
    "cmp('probs', dprobs, probs)"
   ]
  },
  {
   "cell_type": "code",
   "execution_count": 16,
   "metadata": {},
   "outputs": [
    {
     "data": {
      "text/plain": [
       "torch.Size([32, 27])"
      ]
     },
     "execution_count": 16,
     "metadata": {},
     "output_type": "execute_result"
    }
   ],
   "source": [
    "counts.shape"
   ]
  },
  {
   "cell_type": "code",
   "execution_count": 17,
   "metadata": {},
   "outputs": [
    {
     "name": "stdout",
     "output_type": "stream",
     "text": [
      "counts_sum_inv  | exact: True  | approximate: True  | maxdiff: 0.0\n"
     ]
    }
   ],
   "source": [
    "dcounts_sum_inv = (dprobs * counts).sum(1, keepdim=True)\n",
    "cmp('counts_sum_inv', dcounts_sum_inv, counts_sum_inv)"
   ]
  },
  {
   "cell_type": "code",
   "execution_count": 18,
   "metadata": {},
   "outputs": [
    {
     "name": "stdout",
     "output_type": "stream",
     "text": [
      "counts          | exact: True  | approximate: True  | maxdiff: 0.0\n",
      "counts_sum      | exact: True  | approximate: True  | maxdiff: 0.0\n"
     ]
    }
   ],
   "source": [
    "dcounts = (dprobs * counts_sum_inv)\n",
    "dcounts_sum = (-counts_sum**-2.0) * dcounts_sum_inv\n",
    "dcounts += (dcounts_sum)\n",
    "cmp('counts', dcounts, counts)\n",
    "cmp('counts_sum', dcounts_sum, counts_sum)"
   ]
  },
  {
   "cell_type": "code",
   "execution_count": 19,
   "metadata": {},
   "outputs": [
    {
     "name": "stdout",
     "output_type": "stream",
     "text": [
      "norm_logits     | exact: True  | approximate: True  | maxdiff: 0.0\n"
     ]
    }
   ],
   "source": [
    "dnorm_logits = (dcounts*counts)\n",
    "cmp('norm_logits', dnorm_logits, norm_logits)"
   ]
  },
  {
   "cell_type": "code",
   "execution_count": 20,
   "metadata": {},
   "outputs": [
    {
     "name": "stdout",
     "output_type": "stream",
     "text": [
      "tensor([[ 8.4631e-01,  1.0138e+00, -5.6304e-01,  4.3190e-01, -4.5008e-01,\n",
      "          9.6707e-01, -2.9250e-01,  7.4439e-02, -6.1294e-01, -1.0240e-02,\n",
      "          2.3344e-01,  1.2366e-01,  1.0814e-01, -6.8375e-02,  6.3875e-02,\n",
      "         -9.4332e-01, -1.2970e+00, -5.0593e-01, -7.3735e-01,  4.6266e-01,\n",
      "          5.4317e-01, -3.5869e-01, -1.0589e-01,  7.9261e-01,  5.4448e-01,\n",
      "         -1.5478e-01, -4.4705e-01],\n",
      "        [ 3.0120e-01,  3.0727e-01,  8.5787e-01,  4.0310e-01, -1.1032e-01,\n",
      "         -1.4192e-01, -7.0487e-01,  1.4415e-01, -7.5088e-01, -4.7370e-01,\n",
      "          3.3167e-01,  5.7570e-03,  1.1381e-01, -2.3362e-01,  6.1998e-02,\n",
      "         -6.0701e-02, -3.9121e-01, -7.9966e-01, -6.3118e-01, -1.7801e-01,\n",
      "         -6.7840e-01, -5.2753e-01, -9.5967e-01,  4.6882e-01, -4.9202e-01,\n",
      "         -1.1338e-01, -4.7311e-01],\n",
      "        [-5.4846e-01, -2.6440e-01, -6.9156e-01, -8.8663e-01, -3.3528e-01,\n",
      "          3.2035e-01,  6.1012e-01,  5.7700e-01,  4.2422e-01, -1.4598e-01,\n",
      "         -4.5731e-01,  2.6128e-02,  2.4158e-01,  4.1634e-01, -4.7873e-01,\n",
      "         -2.4514e-01, -8.4441e-01, -2.1340e-02, -1.4715e-01,  1.1387e+00,\n",
      "          7.9879e-01,  7.6353e-03,  2.4930e-01,  1.5550e-01,  1.3142e-01,\n",
      "         -5.2766e-01, -2.4954e-01],\n",
      "        [-7.5574e-02, -3.2676e-01,  2.1539e-01,  4.8096e-01,  6.3624e-01,\n",
      "         -1.5900e-01,  2.7674e-01,  9.3398e-02,  2.5909e-01, -6.1226e-01,\n",
      "          1.9692e-01, -4.1471e-01, -1.0545e-01,  2.1927e-01,  3.9844e-01,\n",
      "          5.9852e-01, -3.1005e-01, -2.9806e-01, -7.6685e-01,  2.8498e-01,\n",
      "         -6.1732e-01, -3.6417e-01,  1.9790e-01, -5.3129e-01, -2.6417e-01,\n",
      "          3.0363e-01,  1.8146e-01],\n",
      "        [-7.1170e-01, -6.1414e-01, -1.8736e-01, -2.1463e-01, -5.7370e-01,\n",
      "          2.7660e-01,  1.9216e-01, -6.6401e-01,  4.9360e-01,  1.8003e-01,\n",
      "          1.2569e-01, -7.8038e-01,  2.1724e-01, -2.3880e-01,  2.7302e-01,\n",
      "          1.6929e+00, -4.9542e-01,  4.2576e-01,  4.4092e-01,  5.3769e-01,\n",
      "          4.0703e-01, -6.1712e-01, -2.9562e-01, -8.0439e-01,  3.2273e-01,\n",
      "         -2.7675e-01,  2.9825e-01],\n",
      "        [ 1.2256e-01,  7.2935e-02,  4.7253e-01,  7.7567e-01,  7.4126e-01,\n",
      "         -1.1808e-01,  1.2631e-02,  5.0228e-01, -2.4965e-01, -6.5573e-01,\n",
      "          3.9560e-01, -6.0711e-01, -2.1108e-01,  3.0163e-01,  5.4138e-01,\n",
      "          4.1099e-01, -6.2507e-01, -3.7404e-01, -1.1431e+00, -1.5085e-01,\n",
      "          8.1546e-03, -9.1654e-02,  3.8836e-01, -6.5862e-01, -5.3203e-01,\n",
      "          9.0800e-01,  2.7090e-01],\n",
      "        [ 3.9630e-01, -1.1377e+00,  5.9506e-01, -8.3152e-01, -1.3854e-01,\n",
      "         -5.7029e-01,  5.1184e-01,  3.8198e-01,  2.5497e-01,  1.6618e-01,\n",
      "         -5.8399e-01, -1.2397e-01, -3.3768e-01, -6.1279e-01, -8.3305e-01,\n",
      "          6.0592e-01,  7.8659e-01,  2.0785e-01, -1.2369e+00, -2.3441e-01,\n",
      "         -1.8178e-01,  2.8381e-01,  2.3201e-01, -4.5520e-01,  4.7307e-02,\n",
      "         -4.1098e-01, -1.9718e-01],\n",
      "        [ 4.3892e-01,  1.3913e-01, -1.1956e-01,  1.4804e+00, -7.5894e-02,\n",
      "          6.8753e-01,  6.1207e-02,  1.0713e+00,  2.6515e-01, -1.1986e+00,\n",
      "          4.2595e-02, -6.7075e-01, -4.3142e-01,  7.4365e-01, -5.5623e-01,\n",
      "         -6.4270e-01, -7.1266e-01, -7.3115e-01, -6.1971e-01,  1.1290e+00,\n",
      "          2.4078e-01,  5.3961e-01,  4.0459e-02,  2.3423e-01, -9.8825e-02,\n",
      "          6.7108e-01,  1.9749e-01],\n",
      "        [ 4.3992e-01, -4.8141e-03, -4.7235e-01,  2.6130e-01, -1.0946e+00,\n",
      "          2.6928e-01,  5.7194e-01,  9.5854e-01, -1.8890e-01, -4.4208e-01,\n",
      "          3.5141e-02,  1.8188e-02,  1.4711e-01, -2.3738e-01, -1.0323e+00,\n",
      "         -4.6408e-01, -4.2366e-01,  2.0386e-01, -3.1811e-01,  9.3446e-01,\n",
      "          2.2748e-01,  1.0151e+00,  3.2647e-01,  3.8255e-01,  3.3351e-01,\n",
      "         -6.9938e-01,  9.4763e-03],\n",
      "        [-9.5149e-02, -7.9722e-01, -8.4946e-02, -5.2555e-01,  3.7725e-02,\n",
      "          1.4943e-01,  9.3156e-02, -3.6247e-02,  9.7441e-01,  6.8549e-01,\n",
      "         -7.8087e-01,  6.8085e-02,  1.6063e-01,  3.3134e-01, -2.6559e-01,\n",
      "         -1.3957e-01,  6.1007e-01,  4.4829e-01,  2.4728e-01, -3.9356e-01,\n",
      "          8.2697e-01, -2.6470e-01,  7.5967e-01, -4.5441e-01, -2.5408e-02,\n",
      "          1.4066e-01, -5.9064e-01],\n",
      "        [-5.4308e-01, -1.2389e+00,  4.0616e-01,  5.7735e-01,  1.9486e-01,\n",
      "          3.0612e-01, -2.3537e-01, -1.3739e+00,  2.9999e-01,  5.4031e-01,\n",
      "         -4.6366e-02, -3.5455e-01,  7.6235e-01,  1.5799e-01,  3.8127e-01,\n",
      "          1.7398e+00,  6.8488e-01,  8.1701e-01,  1.1404e+00,  2.4868e-01,\n",
      "          5.3813e-01, -9.2621e-01, -6.6929e-01, -1.6858e-01,  3.9773e-01,\n",
      "         -1.3365e-03, -1.1932e-01],\n",
      "        [-8.9044e-02,  2.4002e-01, -5.0494e-02,  2.0456e+00, -7.5305e-01,\n",
      "          8.2230e-01,  1.0108e+00,  5.2761e-01,  4.1682e-01,  2.0587e-01,\n",
      "         -4.5612e-01, -3.2358e-01, -2.3912e-01,  9.0853e-02, -1.4151e+00,\n",
      "         -1.2525e+00, -1.5451e-01,  3.8419e-01, -4.7976e-01,  8.0066e-01,\n",
      "          7.6070e-01,  4.3127e-01, -2.1305e-01,  3.2996e-01,  5.8422e-01,\n",
      "          5.6751e-01, -5.3505e-01],\n",
      "        [-4.8460e-01, -8.3148e-01,  4.0288e-01, -7.2494e-01, -1.4068e-01,\n",
      "         -6.7520e-01,  9.2511e-01,  2.2093e-01,  5.9232e-01,  4.6686e-01,\n",
      "         -5.4307e-01,  9.9359e-02,  1.2055e-01, -3.7571e-02, -7.3825e-01,\n",
      "          2.4087e-01,  8.2007e-01,  4.1315e-01,  2.6300e-01, -4.4717e-01,\n",
      "          4.4879e-01,  1.8429e-01,  1.1020e+00, -1.0628e+00, -3.9975e-01,\n",
      "         -2.4511e-01, -1.9558e-01],\n",
      "        [-4.3290e-01, -1.9921e-01,  5.0770e-01, -4.5101e-01, -6.9987e-01,\n",
      "          7.2343e-01, -7.2354e-02, -8.0920e-01, -1.9904e-01,  3.0922e-01,\n",
      "         -1.0437e-01, -7.9047e-02,  6.5444e-01,  1.0281e-01,  2.3953e-01,\n",
      "          3.2759e-01, -1.3299e-01,  4.9405e-02,  8.4589e-01, -9.7407e-01,\n",
      "          6.7815e-01, -7.7973e-01, -5.9216e-01, -1.5617e-02,  3.6964e-02,\n",
      "          1.0421e-01,  1.9648e-03],\n",
      "        [ 3.4291e-01, -1.9841e-01, -6.3814e-02,  5.1476e-01, -7.0328e-01,\n",
      "          7.9303e-02, -2.6549e-02,  5.2572e-01,  2.8201e-01,  3.6019e-01,\n",
      "          7.1465e-02,  2.4241e-01,  3.4159e-01,  1.5464e-01, -3.0897e-01,\n",
      "         -4.0540e-01, -3.9769e-01,  4.8885e-01, -1.5171e-01,  2.8881e-01,\n",
      "          4.8983e-01,  3.9201e-01, -1.7572e-01,  3.0132e-02, -3.9791e-01,\n",
      "         -4.7900e-01, -4.7506e-01],\n",
      "        [ 7.6451e-02,  4.7834e-01, -1.3325e-01, -6.3615e-01, -6.2823e-01,\n",
      "          8.1793e-01, -1.6840e-01, -4.8884e-01, -3.6196e-01,  3.1545e-01,\n",
      "         -3.1892e-02,  1.8466e-01,  4.3421e-01, -6.8131e-01, -2.9267e-01,\n",
      "         -8.2923e-01,  6.0975e-02, -5.9082e-01,  4.8791e-01, -7.8154e-01,\n",
      "          1.0526e-01, -4.1807e-01, -6.3760e-02,  5.9504e-01,  4.3069e-01,\n",
      "         -2.6074e-01, -6.4706e-01],\n",
      "        [-1.3233e-01, -3.6446e-01,  9.8527e-01,  3.8154e-01,  6.5370e-01,\n",
      "          4.6545e-01, -6.6072e-01, -2.1310e-01, -5.8746e-01, -4.9800e-01,\n",
      "          5.1617e-01, -5.2851e-01,  1.4647e-01,  6.0256e-01,  6.4023e-01,\n",
      "          6.4894e-01, -7.5174e-01, -5.8614e-01, -3.2379e-01,  2.2207e-01,\n",
      "         -1.8214e-01, -6.4022e-01, -1.1473e+00,  3.1574e-01, -2.9716e-01,\n",
      "          3.2781e-01,  4.6211e-01],\n",
      "        [ 3.2690e-01,  7.7208e-01,  3.3803e-01,  4.6944e-01,  1.0936e-01,\n",
      "         -7.3017e-02, -4.7847e-01,  7.0522e-01, -4.6252e-01, -7.7800e-01,\n",
      "          7.3184e-01, -1.0077e+00, -5.0357e-01, -5.8851e-01,  1.1840e-01,\n",
      "         -2.4202e-01, -8.8900e-01, -1.8787e-01, -7.4645e-01,  2.5069e-01,\n",
      "         -4.3106e-01,  2.2896e-01, -3.1341e-01, -5.6396e-01, -3.7185e-01,\n",
      "          1.2755e-01,  5.0860e-01],\n",
      "        [-4.8460e-01, -8.3148e-01,  4.0288e-01, -7.2494e-01, -1.4068e-01,\n",
      "         -6.7520e-01,  9.2511e-01,  2.2093e-01,  5.9232e-01,  4.6686e-01,\n",
      "         -5.4307e-01,  9.9359e-02,  1.2055e-01, -3.7571e-02, -7.3825e-01,\n",
      "          2.4087e-01,  8.2007e-01,  4.1315e-01,  2.6300e-01, -4.4717e-01,\n",
      "          4.4879e-01,  1.8429e-01,  1.1020e+00, -1.0628e+00, -3.9975e-01,\n",
      "         -2.4511e-01, -1.9558e-01],\n",
      "        [-4.3522e-01, -5.0041e-01, -2.0565e-02, -7.5449e-01, -3.3473e-02,\n",
      "         -8.6674e-02,  7.0472e-01,  3.3476e-01, -1.9238e-01, -1.4382e-01,\n",
      "         -1.8711e-01,  1.8981e-01,  4.0220e-01,  4.0923e-01, -9.8378e-01,\n",
      "         -4.1828e-01, -2.5213e-01, -6.3537e-01, -2.0275e-01,  7.0349e-01,\n",
      "          3.5179e-01, -1.8041e-01,  1.1763e-01,  2.1499e-01, -1.5713e-01,\n",
      "         -5.5929e-01, -4.5313e-01],\n",
      "        [ 4.6360e-01, -8.6283e-01, -5.9944e-01,  2.3037e-01, -1.1774e-01,\n",
      "          1.2339e-01, -6.4124e-02,  7.6836e-02,  3.2663e-01, -4.9657e-01,\n",
      "          7.1591e-01,  2.1083e-02,  4.8733e-01, -4.0479e-01,  1.5693e-01,\n",
      "          7.5685e-01, -6.7381e-01, -5.1356e-01,  7.2826e-02,  3.8758e-01,\n",
      "         -5.3614e-01, -1.0585e-01, -2.5836e-01, -3.5682e-01,  8.1659e-02,\n",
      "          5.1876e-01,  1.1583e-01],\n",
      "        [ 4.6299e-01,  7.3665e-01,  4.9174e-01,  4.7005e-01, -2.4186e-01,\n",
      "          5.8018e-01, -5.2452e-02,  3.4406e-01, -3.9102e-01, -6.3284e-01,\n",
      "          5.1230e-01, -2.2497e-01, -3.1093e-01,  1.0297e-01,  1.9818e-01,\n",
      "          3.0283e-01, -5.5505e-01,  1.5758e-01, -4.9205e-01,  9.9102e-01,\n",
      "         -8.4484e-01, -2.1768e-02, -6.9628e-01, -7.3258e-02,  4.9689e-02,\n",
      "         -1.0073e-01,  3.9758e-03],\n",
      "        [-4.8460e-01, -8.3148e-01,  4.0288e-01, -7.2494e-01, -1.4068e-01,\n",
      "         -6.7520e-01,  9.2511e-01,  2.2093e-01,  5.9232e-01,  4.6686e-01,\n",
      "         -5.4307e-01,  9.9359e-02,  1.2055e-01, -3.7571e-02, -7.3825e-01,\n",
      "          2.4087e-01,  8.2007e-01,  4.1315e-01,  2.6300e-01, -4.4717e-01,\n",
      "          4.4879e-01,  1.8429e-01,  1.1020e+00, -1.0628e+00, -3.9975e-01,\n",
      "         -2.4511e-01, -1.9558e-01],\n",
      "        [ 3.9432e-01, -5.6130e-01, -3.0060e-01, -9.2059e-01,  5.3854e-01,\n",
      "         -2.7686e-01,  6.5897e-01, -8.7171e-02, -3.3613e-01,  2.5529e-01,\n",
      "          5.6186e-02,  1.1061e-01, -4.5548e-02,  5.0678e-02,  1.2879e-01,\n",
      "          3.0678e-01,  7.3490e-01, -2.6265e-01,  8.9452e-02, -8.5316e-01,\n",
      "         -5.2581e-01, -4.1724e-01,  1.2521e+00, -5.8174e-01,  5.0139e-01,\n",
      "         -7.2823e-02, -7.5534e-01],\n",
      "        [-3.2096e-02,  8.6560e-01, -3.4588e-01,  4.3541e-01, -2.0120e-01,\n",
      "          6.8393e-01, -2.6532e-01, -1.4135e-01, -3.2044e-01, -1.8404e-01,\n",
      "          1.1673e+00, -7.4087e-01, -1.5855e-01, -9.6332e-01,  4.8710e-02,\n",
      "         -5.2041e-01, -6.5502e-01, -7.4112e-01, -9.7914e-01, -2.6927e-01,\n",
      "         -8.4508e-01, -3.0855e-01, -1.0687e+00,  1.5307e+00,  4.4298e-01,\n",
      "         -2.5363e-01,  3.7617e-01],\n",
      "        [ 7.4204e-01, -1.3334e-01, -7.9229e-01, -4.6255e-01, -6.2426e-04,\n",
      "          9.7323e-01,  2.8484e-01,  6.4513e-02, -1.6615e-01,  1.3354e-01,\n",
      "          1.9243e-02,  3.7189e-01,  5.3125e-01,  1.1977e-01, -4.3211e-01,\n",
      "         -8.9085e-01,  6.5525e-02, -3.1506e-01,  6.2722e-01, -8.8338e-01,\n",
      "         -1.0524e-01, -3.4611e-01,  8.6330e-01,  5.1984e-01,  7.7086e-01,\n",
      "          3.1756e-01, -1.0825e+00],\n",
      "        [ 1.6104e-01, -4.1888e-01, -5.4970e-01, -1.2137e+00,  1.8674e-01,\n",
      "         -5.2651e-01,  8.3722e-01,  5.8818e-02, -2.8854e-01,  3.4246e-01,\n",
      "         -6.7366e-01,  2.5750e-01,  4.1591e-01, -1.4444e-01, -3.4010e-01,\n",
      "         -7.4329e-01,  3.6912e-01, -2.6458e-01, -1.9800e-01, -2.0358e-01,\n",
      "         -4.2093e-01, -7.3946e-02,  1.2836e+00, -6.7638e-01,  4.0621e-02,\n",
      "         -3.0973e-01, -1.3493e+00],\n",
      "        [-2.6009e-01, -1.6665e-01,  3.1954e-01, -4.7523e-01, -9.5956e-03,\n",
      "         -4.0053e-01,  1.2253e-01, -2.0481e-01, -1.1255e-02,  3.4527e-01,\n",
      "         -4.4210e-01, -3.0490e-01,  2.7367e-02,  2.9195e-02,  1.1634e-01,\n",
      "          5.3225e-01,  2.9844e-01,  3.3860e-01,  3.3023e-01, -8.7937e-01,\n",
      "          1.0929e+00, -8.7365e-01,  3.1888e-01, -1.1268e+00, -7.2655e-01,\n",
      "         -4.2279e-02,  1.8444e-01],\n",
      "        [ 7.0681e-01,  2.3281e-01, -6.1144e-01, -3.2815e-01,  3.0886e-02,\n",
      "          6.1957e-01,  3.8337e-01,  1.9773e-01, -1.1803e+00, -1.3729e-01,\n",
      "          3.6690e-01, -2.8476e-02, -2.4801e-01, -3.2341e-01, -1.7173e-01,\n",
      "          1.7133e-02,  8.7986e-01, -1.8628e-01,  7.6834e-01, -3.1314e-01,\n",
      "          1.3765e-01,  1.8992e-02,  3.8781e-01,  6.6988e-01,  9.5524e-01,\n",
      "         -9.6936e-01, -5.3970e-01],\n",
      "        [-3.5899e-01, -6.4708e-01, -2.8360e-02,  2.6121e-02,  4.9748e-01,\n",
      "         -4.0710e-01,  7.3440e-01, -5.9619e-02,  7.4027e-01, -3.1732e-02,\n",
      "          8.3274e-03,  5.1987e-02, -1.5783e-01,  1.6196e-01, -6.1851e-02,\n",
      "          6.7886e-01, -1.0601e-01, -1.2109e-01,  5.1143e-02, -3.0108e-01,\n",
      "          3.4362e-01, -1.6654e-01,  6.1718e-01, -8.5001e-01, -5.3691e-02,\n",
      "          4.6193e-01,  8.4588e-02],\n",
      "        [ 2.4119e-01,  6.0150e-01, -7.4458e-02,  8.4125e-01,  4.7490e-01,\n",
      "          5.2906e-01,  2.8859e-01,  2.9000e-02, -2.8379e-01, -3.3209e-01,\n",
      "          2.9397e-01, -2.5774e-01, -5.1952e-01, -5.2003e-02, -1.0174e+00,\n",
      "          1.6564e-01,  2.0779e-01, -8.9378e-03,  4.6738e-01,  5.3850e-01,\n",
      "          7.7556e-01, -1.4487e-02, -2.3884e-01,  9.5797e-01,  1.0701e+00,\n",
      "         -3.7496e-01, -1.6471e-01],\n",
      "        [ 3.2966e-01, -3.6513e-01,  6.8296e-01, -4.9684e-01,  8.4277e-01,\n",
      "         -1.1516e-01, -6.2399e-01, -2.6958e-01, -7.3610e-01,  5.2277e-01,\n",
      "         -8.3978e-02, -1.5384e-01, -8.2296e-02,  9.3274e-01,  1.3418e-01,\n",
      "          1.8027e-01,  3.7842e-01,  3.2071e-01,  2.6953e-01, -1.0013e+00,\n",
      "          5.9330e-01, -1.1423e+00,  7.0787e-01, -3.8976e-01, -5.0068e-01,\n",
      "          1.7725e-01, -6.0478e-01]], grad_fn=<AddBackward0>)\n",
      "torch.Size([32, 1])\n"
     ]
    }
   ],
   "source": [
    "print(logits)\n",
    "print(logit_maxes.grad.shape)"
   ]
  },
  {
   "cell_type": "code",
   "execution_count": 21,
   "metadata": {},
   "outputs": [
    {
     "name": "stdout",
     "output_type": "stream",
     "text": [
      "logit_maxes     | exact: True  | approximate: True  | maxdiff: 0.0\n"
     ]
    }
   ],
   "source": [
    "dlogit_maxes = (-dnorm_logits).sum(1, keepdim=True)\n",
    "cmp('logit_maxes', dlogit_maxes, logit_maxes)"
   ]
  },
  {
   "cell_type": "code",
   "execution_count": 22,
   "metadata": {},
   "outputs": [
    {
     "name": "stdout",
     "output_type": "stream",
     "text": [
      "logits          | exact: True  | approximate: True  | maxdiff: 0.0\n"
     ]
    }
   ],
   "source": [
    "dlogits = dnorm_logits.clone()\n",
    "#dlogits += dlogit_maxes.sum(1, keepdim=True)\n",
    "dlogits += F.one_hot(logits.max(1).indices, num_classes=logits.shape[1]) * dlogit_maxes\n",
    "cmp('logits', dlogits, logits)"
   ]
  },
  {
   "cell_type": "code",
   "execution_count": 23,
   "metadata": {},
   "outputs": [
    {
     "name": "stdout",
     "output_type": "stream",
     "text": [
      "h               | exact: True  | approximate: True  | maxdiff: 0.0\n",
      "W2              | exact: True  | approximate: True  | maxdiff: 0.0\n",
      "b2              | exact: True  | approximate: True  | maxdiff: 0.0\n"
     ]
    }
   ],
   "source": [
    "dh = dlogits @ W2.T\n",
    "cmp('h', dh, h)\n",
    "dW2 = h.T @ dlogits\n",
    "cmp('W2', dW2, W2)\n",
    "db2 = dlogits.sum(0, keepdim=True)\n",
    "cmp('b2', db2, b2)"
   ]
  },
  {
   "cell_type": "code",
   "execution_count": 25,
   "metadata": {},
   "outputs": [],
   "source": [
    "#bndiff.shape, dbndiff2.shape, dbnvar.shape"
   ]
  },
  {
   "cell_type": "code",
   "execution_count": 26,
   "metadata": {},
   "outputs": [
    {
     "name": "stdout",
     "output_type": "stream",
     "text": [
      "hpreact         | exact: True  | approximate: True  | maxdiff: 0.0\n",
      "bngain          | exact: True  | approximate: True  | maxdiff: 0.0\n",
      "bnbias          | exact: True  | approximate: True  | maxdiff: 0.0\n",
      "bnraw           | exact: True  | approximate: True  | maxdiff: 0.0\n"
     ]
    }
   ],
   "source": [
    "dhpreact = dh * (1-h**2)\n",
    "cmp('hpreact', dhpreact, hpreact)\n",
    "dbngain = (dhpreact * bnraw).sum(0, keepdim=True)\n",
    "dbnraw = dhpreact * bngain\n",
    "dbnbias = dhpreact.sum(0, keepdim=True)\n",
    "cmp('bngain', dbngain, bngain)\n",
    "cmp('bnbias', dbnbias, bnbias)\n",
    "cmp('bnraw', dbnraw, bnraw)"
   ]
  },
  {
   "cell_type": "code",
   "execution_count": 27,
   "metadata": {},
   "outputs": [
    {
     "name": "stdout",
     "output_type": "stream",
     "text": [
      "bnvar_inv       | exact: True  | approximate: True  | maxdiff: 0.0\n",
      "bnvar           | exact: True  | approximate: True  | maxdiff: 0.0\n",
      "bndiff          | exact: True  | approximate: True  | maxdiff: 0.0\n",
      "bndiff2         | exact: True  | approximate: True  | maxdiff: 0.0\n"
     ]
    }
   ],
   "source": [
    "dbndiff = dbnraw * bnvar_inv\n",
    "dbnvar_inv = (dbnraw * bndiff).sum(0, keepdim=True)\n",
    "dbnvar = dbnvar_inv * (-0.5) * (bnvar + 1e-5) ** (-1.5)\n",
    "dbndiff2 = (1.0/(n-1))*torch.ones_like(bndiff2) * dbnvar\n",
    "dbndiff += dbndiff2 * (2 * bndiff)\n",
    "cmp('bnvar_inv', dbnvar_inv, bnvar_inv)\n",
    "cmp('bnvar', dbnvar, bnvar)\n",
    "cmp('bndiff', dbndiff, bndiff)\n",
    "cmp('bndiff2', dbndiff2, bndiff2)"
   ]
  },
  {
   "cell_type": "code",
   "execution_count": 28,
   "metadata": {},
   "outputs": [
    {
     "name": "stdout",
     "output_type": "stream",
     "text": [
      "bnmeani         | exact: True  | approximate: True  | maxdiff: 0.0\n",
      "hprebn          | exact: True  | approximate: True  | maxdiff: 0.0\n"
     ]
    }
   ],
   "source": [
    "dhprebn = dbndiff.clone()\n",
    "dbnmeani = -dbndiff.sum(0, keepdim=True)\n",
    "dhprebn += 1/n * torch.ones_like(hprebn) * dbnmeani\n",
    "cmp('bnmeani', dbnmeani, bnmeani)\n",
    "cmp('hprebn', dhprebn, hprebn)"
   ]
  },
  {
   "cell_type": "code",
   "execution_count": 29,
   "metadata": {},
   "outputs": [
    {
     "name": "stdout",
     "output_type": "stream",
     "text": [
      "embcat          | exact: True  | approximate: True  | maxdiff: 0.0\n",
      "W1              | exact: True  | approximate: True  | maxdiff: 0.0\n",
      "b1              | exact: True  | approximate: True  | maxdiff: 0.0\n"
     ]
    }
   ],
   "source": [
    "dembcat = dhprebn @ W1.T\n",
    "dW1 = embcat.T @ dhprebn\n",
    "db1 = dhprebn.sum(0, keepdim=True)\n",
    "cmp('embcat', dembcat, embcat)\n",
    "cmp('W1', dW1, W1)\n",
    "cmp('b1', db1, b1)"
   ]
  },
  {
   "cell_type": "code",
   "execution_count": 30,
   "metadata": {},
   "outputs": [
    {
     "name": "stdout",
     "output_type": "stream",
     "text": [
      "emb             | exact: True  | approximate: True  | maxdiff: 0.0\n",
      "C               | exact: True  | approximate: True  | maxdiff: 0.0\n"
     ]
    }
   ],
   "source": [
    "demb = dembcat.view(-1, 3, 10)\n",
    "\n",
    "dC = torch.zeros_like(C)\n",
    "for k in range(Xb.shape[0]):\n",
    "    for j in range(Xb.shape[1]):\n",
    "        ix = Xb[k,j]\n",
    "        dC[ix] += demb[k,j]\n",
    "\n",
    "\n",
    "cmp('emb', demb, emb)\n",
    "cmp('C', dC, C)"
   ]
  },
  {
   "cell_type": "code",
   "execution_count": 31,
   "metadata": {},
   "outputs": [
    {
     "data": {
      "text/plain": [
       "(torch.Size([32, 3, 10]), torch.Size([27, 10]), torch.Size([32, 3]))"
      ]
     },
     "execution_count": 31,
     "metadata": {},
     "output_type": "execute_result"
    }
   ],
   "source": [
    "emb.shape, C.shape, Xb.shape"
   ]
  },
  {
   "cell_type": "code",
   "execution_count": 52,
   "metadata": {},
   "outputs": [
    {
     "name": "stdout",
     "output_type": "stream",
     "text": [
      "logprobs        | exact: True  | approximate: True  | maxdiff: 0.0\n",
      "probs           | exact: True  | approximate: True  | maxdiff: 0.0\n",
      "counts_sum_inv  | exact: True  | approximate: True  | maxdiff: 0.0\n",
      "counts_sum      | exact: True  | approximate: True  | maxdiff: 0.0\n",
      "counts          | exact: True  | approximate: True  | maxdiff: 0.0\n",
      "norm_logits     | exact: True  | approximate: True  | maxdiff: 0.0\n",
      "logit_maxes     | exact: True  | approximate: True  | maxdiff: 0.0\n",
      "logits          | exact: True  | approximate: True  | maxdiff: 0.0\n",
      "h               | exact: True  | approximate: True  | maxdiff: 0.0\n",
      "W2              | exact: True  | approximate: True  | maxdiff: 0.0\n",
      "b2              | exact: True  | approximate: True  | maxdiff: 0.0\n",
      "hpreact         | exact: True  | approximate: True  | maxdiff: 0.0\n",
      "bngain          | exact: True  | approximate: True  | maxdiff: 0.0\n",
      "bnbias          | exact: True  | approximate: True  | maxdiff: 0.0\n",
      "bnraw           | exact: True  | approximate: True  | maxdiff: 0.0\n",
      "bnvar_inv       | exact: True  | approximate: True  | maxdiff: 0.0\n",
      "bnvar           | exact: True  | approximate: True  | maxdiff: 0.0\n",
      "bndiff2         | exact: True  | approximate: True  | maxdiff: 0.0\n",
      "bndiff          | exact: True  | approximate: True  | maxdiff: 0.0\n",
      "bnmeani         | exact: True  | approximate: True  | maxdiff: 0.0\n",
      "hprebn          | exact: True  | approximate: True  | maxdiff: 0.0\n",
      "embcat          | exact: True  | approximate: True  | maxdiff: 0.0\n",
      "W1              | exact: True  | approximate: True  | maxdiff: 0.0\n",
      "b1              | exact: True  | approximate: True  | maxdiff: 0.0\n",
      "emb             | exact: True  | approximate: True  | maxdiff: 0.0\n",
      "C               | exact: True  | approximate: True  | maxdiff: 0.0\n"
     ]
    }
   ],
   "source": [
    "# Exercise 1: backprop through the whole thing manually, \n",
    "# backpropagating through exactly all of the variables \n",
    "# as they are defined in the forward pass above, one by one\n",
    "\n",
    "dlogprobs = torch.zeros_like(logprobs)\n",
    "dlogprobs[range(n), Yb] = -1.0/n\n",
    "dprobs = (1.0 / probs) * dlogprobs\n",
    "dcounts_sum_inv = (counts * dprobs).sum(1, keepdim=True)\n",
    "dcounts = counts_sum_inv * dprobs\n",
    "dcounts_sum = (-counts_sum**-2) * dcounts_sum_inv\n",
    "dcounts += torch.ones_like(counts) * dcounts_sum\n",
    "dnorm_logits = counts * dcounts\n",
    "dlogits = dnorm_logits.clone()\n",
    "dlogit_maxes = (-dnorm_logits).sum(1, keepdim=True)\n",
    "dlogits += F.one_hot(logits.max(1).indices, num_classes=logits.shape[1]) * dlogit_maxes\n",
    "dh = dlogits @ W2.T\n",
    "dW2 = h.T @ dlogits\n",
    "db2 = dlogits.sum(0)\n",
    "dhpreact = (1.0 - h**2) * dh\n",
    "dbngain = (bnraw * dhpreact).sum(0, keepdim=True)\n",
    "dbnraw = bngain * dhpreact\n",
    "dbnbias = dhpreact.sum(0, keepdim=True)\n",
    "dbndiff = bnvar_inv * dbnraw\n",
    "dbnvar_inv = (bndiff * dbnraw).sum(0, keepdim=True)\n",
    "dbnvar = (-0.5*(bnvar + 1e-5)**-1.5) * dbnvar_inv\n",
    "dbndiff2 = (1.0/(n-1))*torch.ones_like(bndiff2) * dbnvar\n",
    "dbndiff += (2*bndiff) * dbndiff2\n",
    "dhprebn = dbndiff.clone()\n",
    "dbnmeani = (-dbndiff).sum(0)\n",
    "dhprebn += 1.0/n * (torch.ones_like(hprebn) * dbnmeani)\n",
    "dembcat = dhprebn @ W1.T\n",
    "dW1 = embcat.T @ dhprebn\n",
    "db1 = dhprebn.sum(0)\n",
    "demb = dembcat.view(emb.shape)\n",
    "dC = torch.zeros_like(C)\n",
    "for k in range(Xb.shape[0]):\n",
    "  for j in range(Xb.shape[1]):\n",
    "    ix = Xb[k,j]\n",
    "    dC[ix] += demb[k,j]\n",
    "    \n",
    "cmp('logprobs', dlogprobs, logprobs)\n",
    "cmp('probs', dprobs, probs)\n",
    "cmp('counts_sum_inv', dcounts_sum_inv, counts_sum_inv)\n",
    "cmp('counts_sum', dcounts_sum, counts_sum)\n",
    "cmp('counts', dcounts, counts)\n",
    "cmp('norm_logits', dnorm_logits, norm_logits)\n",
    "cmp('logit_maxes', dlogit_maxes, logit_maxes)\n",
    "cmp('logits', dlogits, logits)\n",
    "cmp('h', dh, h)\n",
    "cmp('W2', dW2, W2)\n",
    "cmp('b2', db2, b2)\n",
    "cmp('hpreact', dhpreact, hpreact)\n",
    "cmp('bngain', dbngain, bngain)\n",
    "cmp('bnbias', dbnbias, bnbias)\n",
    "cmp('bnraw', dbnraw, bnraw)\n",
    "cmp('bnvar_inv', dbnvar_inv, bnvar_inv)\n",
    "cmp('bnvar', dbnvar, bnvar)\n",
    "cmp('bndiff2', dbndiff2, bndiff2)\n",
    "cmp('bndiff', dbndiff, bndiff)\n",
    "cmp('bnmeani', dbnmeani, bnmeani)\n",
    "cmp('hprebn', dhprebn, hprebn)\n",
    "cmp('embcat', dembcat, embcat)\n",
    "cmp('W1', dW1, W1)\n",
    "cmp('b1', db1, b1)\n",
    "cmp('emb', demb, emb)\n",
    "cmp('C', dC, C)"
   ]
  },
  {
   "cell_type": "code",
   "execution_count": 33,
   "metadata": {},
   "outputs": [
    {
     "name": "stdout",
     "output_type": "stream",
     "text": [
      "3.3574113845825195 diff: 0.0\n"
     ]
    }
   ],
   "source": [
    "# Exercise 2: backprop through cross_entropy but all in one go\n",
    "# to complete this challenge look at the mathematical expression of the loss,\n",
    "# take the derivative, simplify the expression, and just write it out\n",
    "\n",
    "# forward pass\n",
    "\n",
    "# before:\n",
    "# logit_maxes = logits.max(1, keepdim=True).values\n",
    "# norm_logits = logits - logit_maxes # subtract max for numerical stability\n",
    "# counts = norm_logits.exp()\n",
    "# counts_sum = counts.sum(1, keepdims=True)\n",
    "# counts_sum_inv = counts_sum**-1 # if I use (1.0 / counts_sum) instead then I can't get backprop to be bit exact...\n",
    "# probs = counts * counts_sum_inv\n",
    "# logprobs = probs.log()\n",
    "# loss = -logprobs[range(n), Yb].mean()\n",
    "\n",
    "# now:\n",
    "loss_fast = F.cross_entropy(logits, Yb)\n",
    "print(loss_fast.item(), 'diff:', (loss_fast - loss).item())"
   ]
  },
  {
   "cell_type": "code",
   "execution_count": 34,
   "metadata": {},
   "outputs": [],
   "source": [
    "#probabs = torch.exp(logits)/torch.exp(logits).sum(1, keepdim=True)\n",
    "#nll = -torch.log(probabs[range(Yb.shape[0]), Yb]).mean()\n",
    "dlogits = F.softmax(logits, 1)\n",
    "dlogits[range(n), Yb] -= 1\n",
    "dlogits /= n"
   ]
  },
  {
   "cell_type": "code",
   "execution_count": null,
   "metadata": {},
   "outputs": [
    {
     "ename": "NameError",
     "evalue": "name 'probabs' is not defined",
     "output_type": "error",
     "traceback": [
      "\u001b[31m---------------------------------------------------------------------------\u001b[39m",
      "\u001b[31mNameError\u001b[39m                                 Traceback (most recent call last)",
      "\u001b[36mCell\u001b[39m\u001b[36m \u001b[39m\u001b[32mIn[35]\u001b[39m\u001b[32m, line 1\u001b[39m\n\u001b[32m----> \u001b[39m\u001b[32m1\u001b[39m \u001b[43mprobabs\u001b[49m[\u001b[38;5;28mrange\u001b[39m(Yb.shape[\u001b[32m0\u001b[39m]), Yb]\n",
      "\u001b[31mNameError\u001b[39m: name 'probabs' is not defined"
     ]
    }
   ],
   "source": [
    "#probabs[range(Yb.shape[0]), Yb]"
   ]
  },
  {
   "cell_type": "code",
   "execution_count": 36,
   "metadata": {},
   "outputs": [
    {
     "name": "stdout",
     "output_type": "stream",
     "text": [
      "logits          | exact: False | approximate: True  | maxdiff: 4.889443516731262e-09\n"
     ]
    }
   ],
   "source": [
    "# backward pass\n",
    "\n",
    "dlogits = F.softmax(logits, 1)\n",
    "dlogits[range(n), Yb] -= 1\n",
    "dlogits /= n\n",
    "\n",
    "cmp('logits', dlogits, logits) # I can only get approximate to be true, my maxdiff is 6e-9"
   ]
  },
  {
   "cell_type": "code",
   "execution_count": null,
   "metadata": {},
   "outputs": [
    {
     "data": {
      "text/plain": [
       "(torch.Size([32, 27]), torch.Size([32]))"
      ]
     },
     "execution_count": 225,
     "metadata": {},
     "output_type": "execute_result"
    }
   ],
   "source": [
    "logits.shape, Yb.shape"
   ]
  },
  {
   "cell_type": "code",
   "execution_count": null,
   "metadata": {},
   "outputs": [
    {
     "data": {
      "text/plain": [
       "tensor([0.0719, 0.0881, 0.0193, 0.0493, 0.0169, 0.0864, 0.0226, 0.0356, 0.0165,\n",
       "        0.0314, 0.0364, 0.0383, 0.0424, 0.0279, 0.0317, 0.0142, 0.0085, 0.0195,\n",
       "        0.0152, 0.0555, 0.0450, 0.0236, 0.0250, 0.0662, 0.0616, 0.0269, 0.0239],\n",
       "       grad_fn=<SelectBackward0>)"
      ]
     },
     "execution_count": 235,
     "metadata": {},
     "output_type": "execute_result"
    }
   ],
   "source": [
    "F.softmax(logits, 1)[0]"
   ]
  },
  {
   "cell_type": "code",
   "execution_count": null,
   "metadata": {},
   "outputs": [
    {
     "data": {
      "text/plain": [
       "tensor([ 0.0719,  0.0881,  0.0193,  0.0493,  0.0169,  0.0864,  0.0226,  0.0356,\n",
       "        -0.9835,  0.0314,  0.0364,  0.0383,  0.0424,  0.0279,  0.0317,  0.0142,\n",
       "         0.0085,  0.0195,  0.0152,  0.0555,  0.0450,  0.0236,  0.0250,  0.0662,\n",
       "         0.0616,  0.0269,  0.0239], grad_fn=<MulBackward0>)"
      ]
     },
     "execution_count": 234,
     "metadata": {},
     "output_type": "execute_result"
    }
   ],
   "source": [
    "dlogits[0] * n"
   ]
  },
  {
   "cell_type": "code",
   "execution_count": null,
   "metadata": {},
   "outputs": [
    {
     "data": {
      "text/plain": [
       "tensor(1.3970e-09, grad_fn=<SumBackward0>)"
      ]
     },
     "execution_count": 238,
     "metadata": {},
     "output_type": "execute_result"
    }
   ],
   "source": [
    "dlogits[0].sum()"
   ]
  },
  {
   "cell_type": "code",
   "execution_count": null,
   "metadata": {},
   "outputs": [
    {
     "data": {
      "text/plain": [
       "<matplotlib.image.AxesImage at 0x7fcb28430340>"
      ]
     },
     "execution_count": 239,
     "metadata": {},
     "output_type": "execute_result"
    },
    {
     "data": {
      "image/png": "[encoded data removed]",
      "text/plain": [
       "<Figure size 288x288 with 1 Axes>"
      ]
     },
     "metadata": {
      "needs_background": "light"
     },
     "output_type": "display_data"
    }
   ],
   "source": [
    "plt.figure(figsize=(4, 4))\n",
    "plt.imshow(dlogits.detach(), cmap='gray')"
   ]
  },
  {
   "cell_type": "code",
   "execution_count": 37,
   "metadata": {},
   "outputs": [
    {
     "name": "stdout",
     "output_type": "stream",
     "text": [
      "max diff: tensor(4.7684e-07, grad_fn=<MaxBackward1>)\n"
     ]
    }
   ],
   "source": [
    "# Exercise 3: backprop through batchnorm but all in one go\n",
    "# to complete this challenge look at the mathematical expression of the output of batchnorm,\n",
    "# take the derivative w.r.t. its input, simplify the expression, and just write it out\n",
    "\n",
    "# forward pass\n",
    "\n",
    "# before:\n",
    "# bnmeani = 1/n*hprebn.sum(0, keepdim=True)\n",
    "# bndiff = hprebn - bnmeani\n",
    "# bndiff2 = bndiff**2\n",
    "# bnvar = 1/(n-1)*(bndiff2).sum(0, keepdim=True) # note: Bessel's correction (dividing by n-1, not n)\n",
    "# bnvar_inv = (bnvar + 1e-5)**-0.5\n",
    "# bnraw = bndiff * bnvar_inv\n",
    "# hpreact = bngain * bnraw + bnbias\n",
    "\n",
    "# now:\n",
    "hpreact_fast = bngain * (hprebn - hprebn.mean(0, keepdim=True)) / torch.sqrt(hprebn.var(0, keepdim=True, unbiased=True) + 1e-5) + bnbias\n",
    "print('max diff:', (hpreact_fast - hpreact).abs().max())"
   ]
  },
  {
   "cell_type": "code",
   "execution_count": null,
   "metadata": {},
   "outputs": [],
   "source": [
    "#dhprebni = dhpreact * (bndiff ** -2) * (bnvar_inv**3) * ((4.0/n-1) * bndiff**2 + 2e-5) * (-1.0/n)\n",
    "#dhprebni[range(dhprebni.shape[0]), range(dhprebni.shape[0])] *= (n-1)\n",
    "#dhprebni.shape\n",
    "#dhprebnj = dhprebn.clone()\n",
    "#dhprebn = dhprebni"
   ]
  },
  {
   "cell_type": "code",
   "execution_count": 50,
   "metadata": {},
   "outputs": [
    {
     "name": "stdout",
     "output_type": "stream",
     "text": [
      "hprebn          | exact: False | approximate: False | maxdiff: 0.21333563327789307\n"
     ]
    }
   ],
   "source": [
    "# backward pass\n",
    "\n",
    "# before we had:\n",
    "# dbnraw = bngain * dhpreact\n",
    "# dbndiff = bnvar_inv * dbnraw\n",
    "# dbnvar_inv = (bndiff * dbnraw).sum(0, keepdim=True)\n",
    "# dbnvar = (-0.5*(bnvar + 1e-5)**-1.5) * dbnvar_inv\n",
    "# dbndiff2 = (1.0/(n-1))*torch.ones_like(bndiff2) * dbnvar\n",
    "# dbndiff += (2*bndiff) * dbndiff2\n",
    "# dhprebn = dbndiff.clone()\n",
    "# dbnmeani = (-dbndiff).sum(0)\n",
    "# dhprebn += 1.0/n * (torch.ones_like(hprebn) * dbnmeani)\n",
    "\n",
    "# calculate dhprebn given dhpreact (i.e. backprop through the batchnorm)\n",
    "# (you'll also need to use some of the variables from the forward pass up above)\n",
    "\n",
    "#dhprebn = bngain*bnvar_inv/n * (n*dhpreact - dhpreact.sum(0) - n/(n-1)*bnraw*(dhpreact*bnraw).sum(0))\n",
    "\n",
    "cmp('hprebn', dhprebn, hprebn) # I can only get approximate to be true, my maxdiff is 9e-10"
   ]
  },
  {
   "cell_type": "code",
   "execution_count": null,
   "metadata": {},
   "outputs": [
    {
     "data": {
      "text/plain": [
       "(torch.Size([32, 64]),\n",
       " torch.Size([1, 64]),\n",
       " torch.Size([1, 64]),\n",
       " torch.Size([32, 64]),\n",
       " torch.Size([64]))"
      ]
     },
     "execution_count": 278,
     "metadata": {},
     "output_type": "execute_result"
    }
   ],
   "source": [
    "dhprebn.shape, bngain.shape, bnvar_inv.shape, dbnraw.shape, dbnraw.sum(0).shape"
   ]
  },
  {
   "cell_type": "code",
   "execution_count": null,
   "metadata": {},
   "outputs": [
    {
     "name": "stdout",
     "output_type": "stream",
     "text": [
      "12297\n",
      "      0/ 200000: 3.7805\n",
      "  10000/ 200000: 2.1775\n",
      "  20000/ 200000: 2.3957\n",
      "  30000/ 200000: 2.5032\n",
      "  40000/ 200000: 2.0065\n",
      "  50000/ 200000: 2.3873\n",
      "  60000/ 200000: 2.3378\n",
      "  70000/ 200000: 2.0640\n",
      "  80000/ 200000: 2.3497\n",
      "  90000/ 200000: 2.1093\n",
      " 100000/ 200000: 1.9132\n",
      " 110000/ 200000: 2.2229\n",
      " 120000/ 200000: 1.9912\n",
      " 130000/ 200000: 2.4441\n",
      " 140000/ 200000: 2.3198\n",
      " 150000/ 200000: 2.1857\n",
      " 160000/ 200000: 2.0296\n",
      " 170000/ 200000: 1.8391\n",
      " 180000/ 200000: 2.0436\n",
      " 190000/ 200000: 1.9200\n"
     ]
    }
   ],
   "source": [
    "# Exercise 4: putting it all together!\n",
    "# Train the MLP neural net with your own backward pass\n",
    "\n",
    "# init\n",
    "n_embd = 10 # the dimensionality of the character embedding vectors\n",
    "n_hidden = 200 # the number of neurons in the hidden layer of the MLP\n",
    "\n",
    "g = torch.Generator().manual_seed(2147483647) # for reproducibility\n",
    "C  = torch.randn((vocab_size, n_embd),            generator=g)\n",
    "# Layer 1\n",
    "W1 = torch.randn((n_embd * block_size, n_hidden), generator=g) * (5/3)/((n_embd * block_size)**0.5)\n",
    "b1 = torch.randn(n_hidden,                        generator=g) * 0.1\n",
    "# Layer 2\n",
    "W2 = torch.randn((n_hidden, vocab_size),          generator=g) * 0.1\n",
    "b2 = torch.randn(vocab_size,                      generator=g) * 0.1\n",
    "# BatchNorm parameters\n",
    "bngain = torch.randn((1, n_hidden))*0.1 + 1.0\n",
    "bnbias = torch.randn((1, n_hidden))*0.1\n",
    "\n",
    "parameters = [C, W1, b1, W2, b2, bngain, bnbias]\n",
    "print(sum(p.nelement() for p in parameters)) # number of parameters in total\n",
    "for p in parameters:\n",
    "  p.requires_grad = True\n",
    "\n",
    "# same optimization as last time\n",
    "max_steps = 200000\n",
    "batch_size = 32\n",
    "n = batch_size # convenience\n",
    "lossi = []\n",
    "\n",
    "# use this context manager for efficiency once your backward pass is written (TODO)\n",
    "with torch.no_grad():\n",
    "\n",
    "  # kick off optimization\n",
    "  for i in range(max_steps):\n",
    "\n",
    "    # minibatch construct\n",
    "    ix = torch.randint(0, Xtr.shape[0], (batch_size,), generator=g)\n",
    "    Xb, Yb = Xtr[ix], Ytr[ix] # batch X,Y\n",
    "\n",
    "    # forward pass\n",
    "    emb = C[Xb] # embed the characters into vectors\n",
    "    embcat = emb.view(emb.shape[0], -1) # concatenate the vectors\n",
    "    # Linear layer\n",
    "    hprebn = embcat @ W1 + b1 # hidden layer pre-activation\n",
    "    # BatchNorm layer\n",
    "    # -------------------------------------------------------------\n",
    "    bnmean = hprebn.mean(0, keepdim=True)\n",
    "    bnvar = hprebn.var(0, keepdim=True, unbiased=True)\n",
    "    bnvar_inv = (bnvar + 1e-5)**-0.5\n",
    "    bnraw = (hprebn - bnmean) * bnvar_inv\n",
    "    hpreact = bngain * bnraw + bnbias\n",
    "    # -------------------------------------------------------------\n",
    "    # Non-linearity\n",
    "    h = torch.tanh(hpreact) # hidden layer\n",
    "    logits = h @ W2 + b2 # output layer\n",
    "    loss = F.cross_entropy(logits, Yb) # loss function\n",
    "\n",
    "    # backward pass\n",
    "    for p in parameters:\n",
    "      p.grad = None\n",
    "    #loss.backward() # use this for correctness comparisons, delete it later!\n",
    "\n",
    "    # manual backprop! #swole_doge_meme\n",
    "    # -----------------\n",
    "    dlogits = F.softmax(logits, 1)\n",
    "    dlogits[range(n), Yb] -= 1\n",
    "    dlogits /= n\n",
    "    # 2nd layer backprop\n",
    "    dh = dlogits @ W2.T\n",
    "    dW2 = h.T @ dlogits\n",
    "    db2 = dlogits.sum(0)\n",
    "    # tanh\n",
    "    dhpreact = (1.0 - h**2) * dh\n",
    "    # batchnorm backprop\n",
    "    dbngain = (bnraw * dhpreact).sum(0, keepdim=True)\n",
    "    dbnbias = dhpreact.sum(0, keepdim=True)\n",
    "    dhprebn = bngain*bnvar_inv/n * (n*dhpreact - dhpreact.sum(0) - n/(n-1)*bnraw*(dhpreact*bnraw).sum(0))\n",
    "    # 1st layer\n",
    "    dembcat = dhprebn @ W1.T\n",
    "    dW1 = embcat.T @ dhprebn\n",
    "    db1 = dhprebn.sum(0)\n",
    "    # embedding\n",
    "    demb = dembcat.view(emb.shape)\n",
    "    dC = torch.zeros_like(C)\n",
    "    for k in range(Xb.shape[0]):\n",
    "      for j in range(Xb.shape[1]):\n",
    "        ix = Xb[k,j]\n",
    "        dC[ix] += demb[k,j]\n",
    "    grads = [dC, dW1, db1, dW2, db2, dbngain, dbnbias]\n",
    "    # -----------------\n",
    "\n",
    "    # update\n",
    "    lr = 0.1 if i < 100000 else 0.01 # step learning rate decay\n",
    "    for p, grad in zip(parameters, grads):\n",
    "      #p.data += -lr * p.grad # old way of cheems doge (using PyTorch grad from .backward())\n",
    "      p.data += -lr * grad # new way of swole doge TODO: enable\n",
    "\n",
    "    # track stats\n",
    "    if i % 10000 == 0: # print every once in a while\n",
    "      print(f'{i:7d}/{max_steps:7d}: {loss.item():.4f}')\n",
    "    lossi.append(loss.log10().item())\n",
    "\n",
    "  #   if i >= 100: # TODO: delete early breaking when you're ready to train the full net\n",
    "  #     break"
   ]
  },
  {
   "cell_type": "code",
   "execution_count": null,
   "metadata": {},
   "outputs": [],
   "source": [
    "# useful for checking your gradients\n",
    "# for p,g in zip(parameters, grads):\n",
    "#   cmp(str(tuple(p.shape)), g, p)"
   ]
  },
  {
   "cell_type": "code",
   "execution_count": null,
   "metadata": {},
   "outputs": [],
   "source": [
    "# calibrate the batch norm at the end of training\n",
    "\n",
    "with torch.no_grad():\n",
    "  # pass the training set through\n",
    "  emb = C[Xtr]\n",
    "  embcat = emb.view(emb.shape[0], -1)\n",
    "  hpreact = embcat @ W1 + b1\n",
    "  # measure the mean/std over the entire training set\n",
    "  bnmean = hpreact.mean(0, keepdim=True)\n",
    "  bnvar = hpreact.var(0, keepdim=True, unbiased=True)\n"
   ]
  },
  {
   "cell_type": "code",
   "execution_count": null,
   "metadata": {},
   "outputs": [
    {
     "name": "stdout",
     "output_type": "stream",
     "text": [
      "train 2.070523500442505\n",
      "val 2.109893560409546\n"
     ]
    }
   ],
   "source": [
    "# evaluate train and val loss\n",
    "\n",
    "@torch.no_grad() # this decorator disables gradient tracking\n",
    "def split_loss(split):\n",
    "  x,y = {\n",
    "    'train': (Xtr, Ytr),\n",
    "    'val': (Xdev, Ydev),\n",
    "    'test': (Xte, Yte),\n",
    "  }[split]\n",
    "  emb = C[x] # (N, block_size, n_embd)\n",
    "  embcat = emb.view(emb.shape[0], -1) # concat into (N, block_size * n_embd)\n",
    "  hpreact = embcat @ W1 + b1\n",
    "  hpreact = bngain * (hpreact - bnmean) * (bnvar + 1e-5)**-0.5 + bnbias\n",
    "  h = torch.tanh(hpreact) # (N, n_hidden)\n",
    "  logits = h @ W2 + b2 # (N, vocab_size)\n",
    "  loss = F.cross_entropy(logits, y)\n",
    "  print(split, loss.item())\n",
    "\n",
    "split_loss('train')\n",
    "split_loss('val')"
   ]
  },
  {
   "cell_type": "code",
   "execution_count": null,
   "metadata": {},
   "outputs": [],
   "source": [
    "# I achieved:\n",
    "# train 2.0718822479248047\n",
    "# val 2.1162495613098145"
   ]
  },
  {
   "cell_type": "code",
   "execution_count": null,
   "metadata": {},
   "outputs": [
    {
     "name": "stdout",
     "output_type": "stream",
     "text": [
      "carmahzamille.\n",
      "khi.\n",
      "mreigeet.\n",
      "khalaysie.\n",
      "mahnen.\n",
      "delynn.\n",
      "jareen.\n",
      "nellara.\n",
      "chaiiv.\n",
      "kaleigh.\n",
      "ham.\n",
      "joce.\n",
      "quinn.\n",
      "shoison.\n",
      "jadiquintero.\n",
      "dearyxi.\n",
      "jace.\n",
      "pinsley.\n",
      "dae.\n",
      "iia.\n"
     ]
    }
   ],
   "source": [
    "# sample from the model\n",
    "g = torch.Generator().manual_seed(2147483647 + 10)\n",
    "\n",
    "for _ in range(20):\n",
    "    \n",
    "    out = []\n",
    "    context = [0] * block_size # initialize with all ...\n",
    "    while True:\n",
    "      # ------------\n",
    "      # forward pass:\n",
    "      # Embedding\n",
    "      emb = C[torch.tensor([context])] # (1,block_size,d)      \n",
    "      embcat = emb.view(emb.shape[0], -1) # concat into (N, block_size * n_embd)\n",
    "      hpreact = embcat @ W1 + b1\n",
    "      hpreact = bngain * (hpreact - bnmean) * (bnvar + 1e-5)**-0.5 + bnbias\n",
    "      h = torch.tanh(hpreact) # (N, n_hidden)\n",
    "      logits = h @ W2 + b2 # (N, vocab_size)\n",
    "      # ------------\n",
    "      # Sample\n",
    "      probs = F.softmax(logits, dim=1)\n",
    "      ix = torch.multinomial(probs, num_samples=1, generator=g).item()\n",
    "      context = context[1:] + [ix]\n",
    "      out.append(ix)\n",
    "      if ix == 0:\n",
    "        break\n",
    "    \n",
    "    print(''.join(itos[i] for i in out))"
   ]
  },
  {
   "cell_type": "code",
   "execution_count": null,
   "metadata": {},
   "outputs": [],
   "source": []
  }
 ],
 "metadata": {
  "kernelspec": {
   "display_name": "Python 3",
   "language": "python",
   "name": "python3"
  },
  "language_info": {
   "codemirror_mode": {
    "name": "ipython",
    "version": 3
   },
   "file_extension": ".py",
   "mimetype": "text/x-python",
   "name": "python",
   "nbconvert_exporter": "python",
   "pygments_lexer": "ipython3",
   "version": "3.13.7"
  }
 },
 "nbformat": 4,
 "nbformat_minor": 4
}
